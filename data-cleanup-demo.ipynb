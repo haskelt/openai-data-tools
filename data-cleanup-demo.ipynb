{
 "cells": [
  {
   "cell_type": "code",
   "execution_count": 1,
   "id": "650a991c",
   "metadata": {},
   "outputs": [],
   "source": [
    "import os\n",
    "import pandas as pd\n",
    "import data_processor as dp\n",
    "import importlib"
   ]
  },
  {
   "cell_type": "code",
   "execution_count": 8,
   "id": "470a2810",
   "metadata": {},
   "outputs": [
    {
     "data": {
      "text/plain": [
       "<module 'data_processor' from '/home/haskelt/openai-data-tools/data_processor.py'>"
      ]
     },
     "execution_count": 8,
     "metadata": {},
     "output_type": "execute_result"
    }
   ],
   "source": [
    "# to reload the module if we make changes to it while working on this notebook\n",
    "importlib.reload(dp)"
   ]
  },
  {
   "cell_type": "markdown",
   "id": "3a8557ca",
   "metadata": {},
   "source": [
    "## Bare dates"
   ]
  },
  {
   "cell_type": "code",
   "execution_count": 2,
   "id": "fbe14653",
   "metadata": {},
   "outputs": [],
   "source": [
    "examples = [\n",
    "       {'item': 'May 5, 1985', 'target': '1985-05-05'}\n",
    "]"
   ]
  },
  {
   "cell_type": "code",
   "execution_count": 3,
   "id": "b7085526",
   "metadata": {},
   "outputs": [],
   "source": [
    "dates = pd.read_csv('dates.csv', dtype=str, keep_default_na=False)"
   ]
  },
  {
   "cell_type": "code",
   "execution_count": 4,
   "id": "6f79d312",
   "metadata": {},
   "outputs": [
    {
     "data": {
      "text/html": [
       "<div>\n",
       "<style scoped>\n",
       "    .dataframe tbody tr th:only-of-type {\n",
       "        vertical-align: middle;\n",
       "    }\n",
       "\n",
       "    .dataframe tbody tr th {\n",
       "        vertical-align: top;\n",
       "    }\n",
       "\n",
       "    .dataframe thead th {\n",
       "        text-align: right;\n",
       "    }\n",
       "</style>\n",
       "<table border=\"1\" class=\"dataframe\">\n",
       "  <thead>\n",
       "    <tr style=\"text-align: right;\">\n",
       "      <th></th>\n",
       "      <th>item</th>\n",
       "      <th>target</th>\n",
       "    </tr>\n",
       "  </thead>\n",
       "  <tbody>\n",
       "    <tr>\n",
       "      <th>0</th>\n",
       "      <td>Dec 12, 1995</td>\n",
       "      <td>1995-12-12</td>\n",
       "    </tr>\n",
       "    <tr>\n",
       "      <th>1</th>\n",
       "      <td>23 March 1974</td>\n",
       "      <td>1974-03-23</td>\n",
       "    </tr>\n",
       "    <tr>\n",
       "      <th>2</th>\n",
       "      <td>February 14th 2010</td>\n",
       "      <td>2010-02-14</td>\n",
       "    </tr>\n",
       "    <tr>\n",
       "      <th>3</th>\n",
       "      <td>7/9/80</td>\n",
       "      <td>1980-07-09</td>\n",
       "    </tr>\n",
       "    <tr>\n",
       "      <th>4</th>\n",
       "      <td>14/19/93</td>\n",
       "      <td>NA</td>\n",
       "    </tr>\n",
       "    <tr>\n",
       "      <th>5</th>\n",
       "      <td>2/15</td>\n",
       "      <td>NA</td>\n",
       "    </tr>\n",
       "    <tr>\n",
       "      <th>6</th>\n",
       "      <td>13th of April, 2016</td>\n",
       "      <td>2016-04-13</td>\n",
       "    </tr>\n",
       "    <tr>\n",
       "      <th>7</th>\n",
       "      <td>Twenty-fifth of August, 1955</td>\n",
       "      <td>1955-08-25</td>\n",
       "    </tr>\n",
       "    <tr>\n",
       "      <th>8</th>\n",
       "      <td>October 12, nineteen eighty-six</td>\n",
       "      <td>1986-10-12</td>\n",
       "    </tr>\n",
       "  </tbody>\n",
       "</table>\n",
       "</div>"
      ],
      "text/plain": [
       "                              item      target\n",
       "0                     Dec 12, 1995  1995-12-12\n",
       "1                    23 March 1974  1974-03-23\n",
       "2               February 14th 2010  2010-02-14\n",
       "3                           7/9/80  1980-07-09\n",
       "4                         14/19/93          NA\n",
       "5                             2/15          NA\n",
       "6              13th of April, 2016  2016-04-13\n",
       "7     Twenty-fifth of August, 1955  1955-08-25\n",
       "8  October 12, nineteen eighty-six  1986-10-12"
      ]
     },
     "execution_count": 4,
     "metadata": {},
     "output_type": "execute_result"
    }
   ],
   "source": [
    "dates"
   ]
  },
  {
   "cell_type": "code",
   "execution_count": 9,
   "id": "2f48f3c9",
   "metadata": {},
   "outputs": [],
   "source": [
    "processor1 = dp.DataProcessor(\n",
    "    api_key=os.getenv(\"OPENAI_API_KEY\"), \n",
    "    timeout = 10,\n",
    "    model = 'gpt-3.5-turbo', \n",
    "    instructions = \"You will be provided with dates in various formats. For each date, convert it to the format YYYY-MM-DD. If it is not a valid date, return 'NA'.\",\n",
    "    examples = examples\n",
    ")"
   ]
  },
  {
   "cell_type": "code",
   "execution_count": null,
   "id": "204fd3f6",
   "metadata": {},
   "outputs": [
    {
     "name": "stdout",
     "output_type": "stream",
     "text": [
      "Progress: 44%\r"
     ]
    }
   ],
   "source": [
    "processor1.process(dates['item'], mode='live')"
   ]
  },
  {
   "cell_type": "code",
   "execution_count": null,
   "id": "0d1284a2",
   "metadata": {},
   "outputs": [],
   "source": [
    "processor1.score(dates['target'])"
   ]
  },
  {
   "cell_type": "markdown",
   "id": "584a1c9f",
   "metadata": {},
   "source": [
    "## Dates embedded in text"
   ]
  },
  {
   "cell_type": "code",
   "execution_count": null,
   "id": "34f9d77c",
   "metadata": {},
   "outputs": [],
   "source": [
    "dates_in_text = pd.read_csv('dates_in_text.csv', dtype=str, keep_default_na=False)"
   ]
  },
  {
   "cell_type": "code",
   "execution_count": null,
   "id": "d47a5aa7",
   "metadata": {},
   "outputs": [],
   "source": [
    "dates_in_text"
   ]
  },
  {
   "cell_type": "code",
   "execution_count": null,
   "id": "22ca2eee",
   "metadata": {},
   "outputs": [],
   "source": [
    "examples = [\n",
    "    {'item': 'The date on the contract is 13/45/1991',\n",
    "    'target': 'NA'},\n",
    "    {'item': 'On June 15th I have a dentist appointment',\n",
    "    'target': 'NA'},\n",
    "    {'item': '',\n",
    "    'target': 'Be it known that on this fifteenth day of March, 2021 this resolution was duly passed',\n",
    "    'item': 'Be it known that on 2021-03-15 this resolution was duly passed'}\n",
    "]"
   ]
  },
  {
   "cell_type": "code",
   "execution_count": null,
   "id": "665d9bc9",
   "metadata": {},
   "outputs": [],
   "source": [
    "processor2 = dp.GPTDataProcessor(api_key=os.getenv(\"OPENAI_API_KEY\"), \n",
    "                    model = 'gpt-3.5-turbo', \n",
    "                    instructions = \"You will be provided with sentences that contain dates. For each date, convert it to the format YYYY-MM-DD, and return the sentence with the converted date. If the date is not a valid date, return 'NA' instead of the sentence.\",\n",
    "                    examples = examples\n",
    "            )"
   ]
  },
  {
   "cell_type": "code",
   "execution_count": null,
   "id": "26574f10",
   "metadata": {},
   "outputs": [],
   "source": [
    "processor2.process(dates_in_text['item'], mode='live')"
   ]
  },
  {
   "cell_type": "code",
   "execution_count": null,
   "id": "f3486e78",
   "metadata": {},
   "outputs": [],
   "source": [
    "processor2.score(dates_in_text['target'])"
   ]
  },
  {
   "cell_type": "code",
   "execution_count": null,
   "id": "b5518aea",
   "metadata": {},
   "outputs": [],
   "source": [
    "pd.DataFrame({'target': dates_in_text['target'], 'response': processor2._data['output']})"
   ]
  },
  {
   "cell_type": "markdown",
   "id": "38916722",
   "metadata": {},
   "source": [
    "## Self-described gender"
   ]
  },
  {
   "cell_type": "code",
   "execution_count": null,
   "id": "44bcc42b",
   "metadata": {},
   "outputs": [],
   "source": [
    "raw_gender_data = pd.read_csv('Combined-Calc-Data.csv', dtype=str, keep_default_na=False)"
   ]
  },
  {
   "cell_type": "code",
   "execution_count": null,
   "id": "0b52364e",
   "metadata": {},
   "outputs": [],
   "source": [
    "raw_gender_data"
   ]
  },
  {
   "cell_type": "code",
   "execution_count": null,
   "id": "d4d114dd",
   "metadata": {},
   "outputs": [],
   "source": [
    "processor3 = dp.GPTDataProcessor(api_key=os.getenv(\"OPENAI_API_KEY\"), \n",
    "                    model = 'gpt-3.5-turbo', \n",
    "                    instructions = \"You will be provided with phrases describing someone's gender. For each phrase, classify it as 'female', 'male', 'nonbinary', or 'other'.\"\n",
    "            )"
   ]
  },
  {
   "cell_type": "code",
   "execution_count": null,
   "id": "3da9eb33",
   "metadata": {},
   "outputs": [],
   "source": [
    "processor3.process(raw_gender_data['gender'])"
   ]
  },
  {
   "cell_type": "code",
   "execution_count": null,
   "id": "4cd15b5f",
   "metadata": {},
   "outputs": [],
   "source": [
    "processor3.dump('objects/genderclass')"
   ]
  },
  {
   "cell_type": "code",
   "execution_count": null,
   "id": "30a86a94",
   "metadata": {},
   "outputs": [],
   "source": [
    "processor4 = dp.GPTDataProcessor(api_key=os.getenv(\"OPENAI_API_KEY\"), \n",
    "                    model = 'gpt-3.5-turbo', \n",
    "                    instructions = \"I conducted a survey where people self-reported their gender. For data analysis, I need to classify their responses into 4 categories: 'female', 'male', 'non-binary', and 'other'. You will be provided with the response from a survey. Please decide what category it belongs in, and respond with that category.\"\n",
    "            )"
   ]
  },
  {
   "cell_type": "code",
   "execution_count": null,
   "id": "c5afc740",
   "metadata": {},
   "outputs": [],
   "source": [
    "processor4.process(raw_gender_data['gender'][0:20])"
   ]
  },
  {
   "cell_type": "code",
   "execution_count": null,
   "id": "2d230096",
   "metadata": {},
   "outputs": [],
   "source": [
    "processor4.dump('objects/genderclass4')"
   ]
  },
  {
   "cell_type": "code",
   "execution_count": null,
   "id": "feae69d1",
   "metadata": {},
   "outputs": [],
   "source": []
  }
 ],
 "metadata": {
  "kernelspec": {
   "display_name": "Python 3 (ipykernel)",
   "language": "python",
   "name": "python3"
  },
  "language_info": {
   "codemirror_mode": {
    "name": "ipython",
    "version": 3
   },
   "file_extension": ".py",
   "mimetype": "text/x-python",
   "name": "python",
   "nbconvert_exporter": "python",
   "pygments_lexer": "ipython3",
   "version": "3.10.12"
  }
 },
 "nbformat": 4,
 "nbformat_minor": 5
}
