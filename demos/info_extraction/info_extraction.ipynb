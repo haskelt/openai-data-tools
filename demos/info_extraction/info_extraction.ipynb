{
 "cells": [
  {
   "cell_type": "code",
   "execution_count": 14,
   "id": "d836dbca-698e-4c37-87c2-e36a00295a68",
   "metadata": {},
   "outputs": [],
   "source": [
    "import os\n",
    "import pandas as pd\n",
    "import json"
   ]
  },
  {
   "cell_type": "code",
   "execution_count": 2,
   "id": "b6c1253e-9549-4bbf-abbf-6934968411d0",
   "metadata": {},
   "outputs": [],
   "source": [
    "import sys\n",
    "sys.path.append('../..')\n",
    "import openai_data_tools as dt"
   ]
  },
  {
   "cell_type": "code",
   "execution_count": 42,
   "id": "7189e892-a18b-4843-a8a6-3930d7f4a0fd",
   "metadata": {},
   "outputs": [],
   "source": [
    "data = pd.read_csv('data.csv', dtype=str, keep_default_na=False)"
   ]
  },
  {
   "cell_type": "code",
   "execution_count": 43,
   "id": "56e9ca49-95cf-4ddc-98db-a7daf7731c4a",
   "metadata": {},
   "outputs": [
    {
     "data": {
      "text/html": [
       "<div>\n",
       "<style scoped>\n",
       "    .dataframe tbody tr th:only-of-type {\n",
       "        vertical-align: middle;\n",
       "    }\n",
       "\n",
       "    .dataframe tbody tr th {\n",
       "        vertical-align: top;\n",
       "    }\n",
       "\n",
       "    .dataframe thead th {\n",
       "        text-align: right;\n",
       "    }\n",
       "</style>\n",
       "<table border=\"1\" class=\"dataframe\">\n",
       "  <thead>\n",
       "    <tr style=\"text-align: right;\">\n",
       "      <th></th>\n",
       "      <th>item</th>\n",
       "      <th>name</th>\n",
       "      <th>industry</th>\n",
       "      <th>role</th>\n",
       "    </tr>\n",
       "  </thead>\n",
       "  <tbody>\n",
       "    <tr>\n",
       "      <th>0</th>\n",
       "      <td>My name is Aaron Jones. I work for a financial...</td>\n",
       "      <td>Aaron Jones</td>\n",
       "      <td>financial services</td>\n",
       "      <td>senior account manager</td>\n",
       "    </tr>\n",
       "    <tr>\n",
       "      <th>1</th>\n",
       "      <td>Hi, I am Laetitia Chen. I am a sales associate...</td>\n",
       "      <td>Laetitia Chen</td>\n",
       "      <td>retail</td>\n",
       "      <td>sales associate</td>\n",
       "    </tr>\n",
       "    <tr>\n",
       "      <th>2</th>\n",
       "      <td>My name is Manuel Garcia, you can call me Mann...</td>\n",
       "      <td>Manuel Garcia</td>\n",
       "      <td>insurance</td>\n",
       "      <td>help desk technician</td>\n",
       "    </tr>\n",
       "    <tr>\n",
       "      <th>3</th>\n",
       "      <td>Hi, I'm Angela, Angela Chekov. My job is in a ...</td>\n",
       "      <td>Angela Chekov</td>\n",
       "      <td>restaurant</td>\n",
       "      <td>bookkeeping</td>\n",
       "    </tr>\n",
       "    <tr>\n",
       "      <th>4</th>\n",
       "      <td>Darren Gabor here, pleased to meet you. I work...</td>\n",
       "      <td>Darren Gabor</td>\n",
       "      <td>bank</td>\n",
       "      <td>lawyer</td>\n",
       "    </tr>\n",
       "  </tbody>\n",
       "</table>\n",
       "</div>"
      ],
      "text/plain": [
       "                                                item           name  \\\n",
       "0  My name is Aaron Jones. I work for a financial...    Aaron Jones   \n",
       "1  Hi, I am Laetitia Chen. I am a sales associate...  Laetitia Chen   \n",
       "2  My name is Manuel Garcia, you can call me Mann...  Manuel Garcia   \n",
       "3  Hi, I'm Angela, Angela Chekov. My job is in a ...  Angela Chekov   \n",
       "4  Darren Gabor here, pleased to meet you. I work...   Darren Gabor   \n",
       "\n",
       "             industry                    role  \n",
       "0  financial services  senior account manager  \n",
       "1              retail         sales associate  \n",
       "2           insurance    help desk technician  \n",
       "3          restaurant             bookkeeping  \n",
       "4                bank                  lawyer  "
      ]
     },
     "execution_count": 43,
     "metadata": {},
     "output_type": "execute_result"
    }
   ],
   "source": [
    "data"
   ]
  },
  {
   "cell_type": "code",
   "execution_count": 29,
   "id": "83e1a6ab-0244-4a5b-a893-d4b728c29543",
   "metadata": {},
   "outputs": [],
   "source": [
    "processor = dt.DataProcessor(\n",
    "    api_key=os.getenv(\"OPENAI_API_KEY\"),\n",
    "    model = 'gpt-3.5-turbo', \n",
    "    instructions = \"You will be provided with passages where someone introduces themselves. For each passage, return a JSON object with the key 'name' for the person's name, 'industry' for what industry they work in, and 'role' for their job role. If any of these is missing, return 'NA' for that value.\"\n",
    ")"
   ]
  },
  {
   "cell_type": "code",
   "execution_count": 44,
   "id": "af091c53-a564-4b32-925b-6b4d3e2d2078",
   "metadata": {},
   "outputs": [
    {
     "name": "stdout",
     "output_type": "stream",
     "text": [
      "Progress: 100%\n"
     ]
    }
   ],
   "source": [
    "output = processor.process(data['item'])"
   ]
  },
  {
   "cell_type": "code",
   "execution_count": 45,
   "id": "c4d43b06-ba8f-445f-a2d5-c5cc595ce2e3",
   "metadata": {},
   "outputs": [
    {
     "data": {
      "text/plain": [
       "['{\\n  \"name\": \"Aaron Jones\",\\n  \"industry\": \"Financial Services\",\\n  \"role\": \"Senior Account Manager\"\\n}',\n",
       " '{\\n  \"name\": \"Laetitia Chen\",\\n  \"industry\": \"large retail chain\",\\n  \"role\": \"sales associate\"\\n}',\n",
       " '{\\n  \"name\": \"Manuel Garcia\",\\n  \"industry\": \"Insurance\",\\n  \"role\": \"Help Desk Technician\"\\n}',\n",
       " '{\\n  \"name\": \"Angela Chekov\",\\n  \"industry\": \"Restaurant\",\\n  \"role\": \"Bookkeeping\"\\n}',\n",
       " '{\\n  \"name\": \"Darren Gabor\",\\n  \"industry\": \"Banking\",\\n  \"role\": \"Legal Advisor\"\\n}']"
      ]
     },
     "execution_count": 45,
     "metadata": {},
     "output_type": "execute_result"
    }
   ],
   "source": [
    "output"
   ]
  },
  {
   "cell_type": "markdown",
   "id": "2e5d8a12-d1f9-46a0-bb86-dbc20e91a0ca",
   "metadata": {},
   "source": [
    "Convert the output to an object and then back to a string, to ensure that the stringified JSON is formatted consistently. We convert everything to lowercase to ensure that the model isn't scored as incorrect due to case mismatches."
   ]
  },
  {
   "cell_type": "code",
   "execution_count": 32,
   "id": "1a7d0bbc-12b5-4947-afdb-8f75fb87a249",
   "metadata": {},
   "outputs": [],
   "source": [
    "clean_output = [json.dumps(json.loads(row)).lower() for row in output]"
   ]
  },
  {
   "cell_type": "code",
   "execution_count": 33,
   "id": "3b2582ac-74bc-4380-9a78-3558f337c4a8",
   "metadata": {},
   "outputs": [
    {
     "data": {
      "text/plain": [
       "['{\"name\": \"aaron jones\", \"industry\": \"financial services\", \"role\": \"senior account manager\"}',\n",
       " '{\"name\": \"laetitia chen\", \"industry\": \"retail\", \"role\": \"sales associate\"}',\n",
       " '{\"name\": \"manuel garcia\", \"industry\": \"insurance\", \"role\": \"help desk technician\"}']"
      ]
     },
     "execution_count": 33,
     "metadata": {},
     "output_type": "execute_result"
    }
   ],
   "source": [
    "clean_output"
   ]
  },
  {
   "cell_type": "markdown",
   "id": "40d9c5aa-32de-47eb-825e-e18de22cd47b",
   "metadata": {},
   "source": [
    "Convert the target fields into stringified JSON that can be compared with the model output. We again convert everything to lowercase so that case mismatches don't mess up the scoring."
   ]
  },
  {
   "cell_type": "code",
   "execution_count": 34,
   "id": "4d5e61c1-0639-442e-a69e-c4f090588203",
   "metadata": {},
   "outputs": [],
   "source": [
    "targets = [json.dumps({\"name\": row[\"name\"], \"industry\": row[\"industry\"], \"role\": row[\"role\"]}).lower() for index, row in data.iterrows()]"
   ]
  },
  {
   "cell_type": "code",
   "execution_count": 35,
   "id": "0db9cc52-4ac8-406f-851e-296a67c509e4",
   "metadata": {},
   "outputs": [
    {
     "data": {
      "text/plain": [
       "['{\"name\": \"aaron jones\", \"industry\": \"financial services\", \"role\": \"senior account manager\"}',\n",
       " '{\"name\": \"laetitia chen\", \"industry\": \"retail\", \"role\": \"sales associate\"}',\n",
       " '{\"name\": \"manuel garcia\", \"industry\": \"insurance\", \"role\": \"help desk technician\"}']"
      ]
     },
     "execution_count": 35,
     "metadata": {},
     "output_type": "execute_result"
    }
   ],
   "source": [
    "targets"
   ]
  },
  {
   "cell_type": "code",
   "execution_count": 36,
   "id": "81023366-cd50-4ba5-9dd1-22cafe98afa9",
   "metadata": {},
   "outputs": [],
   "source": [
    "scorer = dt.Scorer(clean_output, targets)"
   ]
  },
  {
   "cell_type": "code",
   "execution_count": 37,
   "id": "7a7bc8c8-6f14-4991-841c-d32ca36d9cf7",
   "metadata": {},
   "outputs": [
    {
     "data": {
      "text/plain": [
       "1.0"
      ]
     },
     "execution_count": 37,
     "metadata": {},
     "output_type": "execute_result"
    }
   ],
   "source": [
    "scorer.accuracy()"
   ]
  },
  {
   "cell_type": "code",
   "execution_count": null,
   "id": "b828a76e-193c-4559-a314-90d3535f6ff0",
   "metadata": {},
   "outputs": [],
   "source": []
  }
 ],
 "metadata": {
  "kernelspec": {
   "display_name": "Python 3 (ipykernel)",
   "language": "python",
   "name": "python3"
  },
  "language_info": {
   "codemirror_mode": {
    "name": "ipython",
    "version": 3
   },
   "file_extension": ".py",
   "mimetype": "text/x-python",
   "name": "python",
   "nbconvert_exporter": "python",
   "pygments_lexer": "ipython3",
   "version": "3.10.12"
  }
 },
 "nbformat": 4,
 "nbformat_minor": 5
}
