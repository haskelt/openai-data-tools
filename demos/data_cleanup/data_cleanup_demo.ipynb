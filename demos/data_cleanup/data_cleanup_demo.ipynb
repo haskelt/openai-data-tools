{
 "cells": [
  {
   "cell_type": "markdown",
   "id": "3a8557ca",
   "metadata": {},
   "source": [
    "## Converting dates to a consistent format"
   ]
  },
  {
   "cell_type": "code",
   "execution_count": 1,
   "id": "650a991c",
   "metadata": {},
   "outputs": [],
   "source": [
    "import os\n",
    "import pandas as pd"
   ]
  },
  {
   "cell_type": "code",
   "execution_count": 2,
   "id": "95775fc6-c554-41b8-9a16-3d21f550b297",
   "metadata": {},
   "outputs": [],
   "source": [
    "import sys\n",
    "sys.path.append('../..')\n",
    "import openai_data_tools as dt"
   ]
  },
  {
   "cell_type": "code",
   "execution_count": 3,
   "id": "fbe14653",
   "metadata": {},
   "outputs": [],
   "source": [
    "examples = [\n",
    "       {'item': 'May 5, 1985', 'target': '1985-05-05'}\n",
    "]"
   ]
  },
  {
   "cell_type": "code",
   "execution_count": 4,
   "id": "b7085526",
   "metadata": {},
   "outputs": [],
   "source": [
    "dates = pd.read_csv('dates.csv', dtype=str, keep_default_na=False)"
   ]
  },
  {
   "cell_type": "code",
   "execution_count": 5,
   "id": "6f79d312",
   "metadata": {},
   "outputs": [
    {
     "data": {
      "text/html": [
       "<div>\n",
       "<style scoped>\n",
       "    .dataframe tbody tr th:only-of-type {\n",
       "        vertical-align: middle;\n",
       "    }\n",
       "\n",
       "    .dataframe tbody tr th {\n",
       "        vertical-align: top;\n",
       "    }\n",
       "\n",
       "    .dataframe thead th {\n",
       "        text-align: right;\n",
       "    }\n",
       "</style>\n",
       "<table border=\"1\" class=\"dataframe\">\n",
       "  <thead>\n",
       "    <tr style=\"text-align: right;\">\n",
       "      <th></th>\n",
       "      <th>item</th>\n",
       "      <th>target</th>\n",
       "    </tr>\n",
       "  </thead>\n",
       "  <tbody>\n",
       "    <tr>\n",
       "      <th>0</th>\n",
       "      <td>Dec 12, 1995</td>\n",
       "      <td>1995-12-12</td>\n",
       "    </tr>\n",
       "    <tr>\n",
       "      <th>1</th>\n",
       "      <td>23 March 1974</td>\n",
       "      <td>1974-03-23</td>\n",
       "    </tr>\n",
       "    <tr>\n",
       "      <th>2</th>\n",
       "      <td>February 14th 2010</td>\n",
       "      <td>2010-02-14</td>\n",
       "    </tr>\n",
       "    <tr>\n",
       "      <th>3</th>\n",
       "      <td>7/9/80</td>\n",
       "      <td>1980-07-09</td>\n",
       "    </tr>\n",
       "    <tr>\n",
       "      <th>4</th>\n",
       "      <td>14/19/93</td>\n",
       "      <td>NA</td>\n",
       "    </tr>\n",
       "    <tr>\n",
       "      <th>5</th>\n",
       "      <td>2/15</td>\n",
       "      <td>NA</td>\n",
       "    </tr>\n",
       "    <tr>\n",
       "      <th>6</th>\n",
       "      <td>13th of April, 2016</td>\n",
       "      <td>2016-04-13</td>\n",
       "    </tr>\n",
       "    <tr>\n",
       "      <th>7</th>\n",
       "      <td>Twenty-fifth of August, 1955</td>\n",
       "      <td>1955-08-25</td>\n",
       "    </tr>\n",
       "    <tr>\n",
       "      <th>8</th>\n",
       "      <td>October 12, nineteen eighty-six</td>\n",
       "      <td>1986-10-12</td>\n",
       "    </tr>\n",
       "  </tbody>\n",
       "</table>\n",
       "</div>"
      ],
      "text/plain": [
       "                              item      target\n",
       "0                     Dec 12, 1995  1995-12-12\n",
       "1                    23 March 1974  1974-03-23\n",
       "2               February 14th 2010  2010-02-14\n",
       "3                           7/9/80  1980-07-09\n",
       "4                         14/19/93          NA\n",
       "5                             2/15          NA\n",
       "6              13th of April, 2016  2016-04-13\n",
       "7     Twenty-fifth of August, 1955  1955-08-25\n",
       "8  October 12, nineteen eighty-six  1986-10-12"
      ]
     },
     "execution_count": 5,
     "metadata": {},
     "output_type": "execute_result"
    }
   ],
   "source": [
    "dates"
   ]
  },
  {
   "cell_type": "code",
   "execution_count": 6,
   "id": "2f48f3c9",
   "metadata": {},
   "outputs": [],
   "source": [
    "processor = dt.DataProcessor(\n",
    "    api_key=os.getenv(\"OPENAI_API_KEY\"),\n",
    "    model = 'gpt-3.5-turbo', \n",
    "    instructions = \"You will be provided with dates in various formats. For each date, convert it to the format YYYY-MM-DD. If it is not a valid date, return 'NA'.\",\n",
    "    examples = examples\n",
    ")"
   ]
  },
  {
   "cell_type": "code",
   "execution_count": 7,
   "id": "204fd3f6",
   "metadata": {},
   "outputs": [
    {
     "name": "stdout",
     "output_type": "stream",
     "text": [
      "Progress: 100%\n"
     ]
    }
   ],
   "source": [
    "output = processor.process(dates['item'])"
   ]
  },
  {
   "cell_type": "code",
   "execution_count": 8,
   "id": "cc3a8867-4959-42b8-953f-8742d0f5798b",
   "metadata": {},
   "outputs": [
    {
     "data": {
      "text/plain": [
       "['1995-12-12',\n",
       " '1974-03-23',\n",
       " '2010-02-14',\n",
       " '1980-07-09',\n",
       " 'NA',\n",
       " 'NA',\n",
       " '2016-04-13',\n",
       " '1955-08-25',\n",
       " '1986-10-12']"
      ]
     },
     "execution_count": 8,
     "metadata": {},
     "output_type": "execute_result"
    }
   ],
   "source": [
    "output"
   ]
  },
  {
   "cell_type": "code",
   "execution_count": 10,
   "id": "17709975-5581-4c2e-9425-3d475aaffe29",
   "metadata": {},
   "outputs": [
    {
     "data": {
      "text/plain": [
       "0    1995-12-12\n",
       "1    1974-03-23\n",
       "2    2010-02-14\n",
       "3    1980-07-09\n",
       "4            NA\n",
       "5            NA\n",
       "6    2016-04-13\n",
       "7    1955-08-25\n",
       "8    1986-10-12\n",
       "Name: target, dtype: object"
      ]
     },
     "execution_count": 10,
     "metadata": {},
     "output_type": "execute_result"
    }
   ],
   "source": [
    "dates['target']"
   ]
  },
  {
   "cell_type": "code",
   "execution_count": 9,
   "id": "2b4647d4-b5be-48e5-a360-ee78281f2063",
   "metadata": {},
   "outputs": [],
   "source": [
    "scorer = dt.Scorer(output, dates['target'])"
   ]
  },
  {
   "cell_type": "code",
   "execution_count": 11,
   "id": "0d1284a2",
   "metadata": {},
   "outputs": [
    {
     "data": {
      "text/plain": [
       "[1, 1, 1, 1, 1, 1, 1, 1, 1]"
      ]
     },
     "execution_count": 11,
     "metadata": {},
     "output_type": "execute_result"
    }
   ],
   "source": [
    "scorer.score()"
   ]
  },
  {
   "cell_type": "code",
   "execution_count": 12,
   "id": "76e073a8-141f-4b15-9909-26d81407705d",
   "metadata": {},
   "outputs": [
    {
     "data": {
      "text/plain": [
       "1.0"
      ]
     },
     "execution_count": 12,
     "metadata": {},
     "output_type": "execute_result"
    }
   ],
   "source": [
    "scorer.accuracy()"
   ]
  },
  {
   "cell_type": "code",
   "execution_count": null,
   "id": "a4f251e7-acdc-43e0-ad0e-cfebdf28cdd6",
   "metadata": {},
   "outputs": [],
   "source": []
  }
 ],
 "metadata": {
  "kernelspec": {
   "display_name": "Python 3 (ipykernel)",
   "language": "python",
   "name": "python3"
  },
  "language_info": {
   "codemirror_mode": {
    "name": "ipython",
    "version": 3
   },
   "file_extension": ".py",
   "mimetype": "text/x-python",
   "name": "python",
   "nbconvert_exporter": "python",
   "pygments_lexer": "ipython3",
   "version": "3.10.12"
  }
 },
 "nbformat": 4,
 "nbformat_minor": 5
}
