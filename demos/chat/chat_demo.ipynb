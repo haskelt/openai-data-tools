{
 "cells": [
  {
   "cell_type": "code",
   "execution_count": 1,
   "id": "7a48d7c6-dee9-410d-b71f-3b58de904024",
   "metadata": {},
   "outputs": [],
   "source": [
    "import os\n",
    "import sys\n",
    "sys.path.append('../..')\n",
    "import openai_data_tools as dt"
   ]
  },
  {
   "cell_type": "code",
   "execution_count": 2,
   "id": "33a84534-1a01-404c-b94f-8748a8db2bf8",
   "metadata": {},
   "outputs": [],
   "source": [
    "dt.OpenAI.configure(api_key=os.getenv(\"OPENAI_API_KEY\"), model='gpt-3.5-turbo')"
   ]
  },
  {
   "cell_type": "code",
   "execution_count": 3,
   "id": "bd68999f-da27-4287-bef2-33a7eb64fd49",
   "metadata": {},
   "outputs": [],
   "source": [
    "chat = dt.Chat(\n",
    "    instructions = \"You are a researcher who is an expert on designing surveys.\"\n",
    ")"
   ]
  },
  {
   "cell_type": "code",
   "execution_count": 4,
   "id": "f3879de7-9b94-43af-8c55-c11e19a5944a",
   "metadata": {},
   "outputs": [
    {
     "data": {
      "text/markdown": [
       "For a Likert scale with 5 options measuring satisfaction with a product, you can use the following options:\n",
       "\n",
       "1. Very dissatisfied\n",
       "2. Dissatisfied\n",
       "3. Neither satisfied nor dissatisfied\n",
       "4. Satisfied\n",
       "5. Very satisfied\n",
       "\n",
       "These options provide a range of responses that allow respondents to express varying levels of satisfaction with your product."
      ],
      "text/plain": [
       "<IPython.core.display.Markdown object>"
      ]
     },
     "metadata": {},
     "output_type": "display_data"
    }
   ],
   "source": [
    "chat.send('I am asking people whether they are satisfied with our product, and I want to give them a Likert scale with 5 options. What are good options to use?')"
   ]
  },
  {
   "cell_type": "code",
   "execution_count": 5,
   "id": "47d9ab16-55c1-4531-a3a7-f6f54cdb64ad",
   "metadata": {},
   "outputs": [
    {
     "data": {
      "text/markdown": [
       "Certainly! Another set of options for a Likert scale with 5 options measuring satisfaction with a product could be:\n",
       "\n",
       "1. Strongly disagree\n",
       "2. Disagree\n",
       "3. Neither agree nor disagree\n",
       "4. Agree\n",
       "5. Strongly agree\n",
       "\n",
       "These options provide a different perspective by framing satisfaction in terms of agreement or disagreement with the statement."
      ],
      "text/plain": [
       "<IPython.core.display.Markdown object>"
      ]
     },
     "metadata": {},
     "output_type": "display_data"
    }
   ],
   "source": [
    "chat.send('Can you suggest another set of options?')"
   ]
  },
  {
   "cell_type": "code",
   "execution_count": 6,
   "id": "92890368-0a6c-4ace-b98c-3de6436641b5",
   "metadata": {},
   "outputs": [
    {
     "data": {
      "text/markdown": [
       "For a question about the ease of use of a product using a Likert scale with 5 options, you can consider the following answer options:\n",
       "\n",
       "1. Very difficult to use\n",
       "2. Difficult to use\n",
       "3. Neither easy nor difficult to use\n",
       "4. Easy to use\n",
       "5. Very easy to use\n",
       "\n",
       "These options capture the range of perceptions regarding the ease of use of the product."
      ],
      "text/plain": [
       "<IPython.core.display.Markdown object>"
      ]
     },
     "metadata": {},
     "output_type": "display_data"
    }
   ],
   "source": [
    "chat.send('I also have a question about how easy the product is to use. What would be some good answer options for that question?')"
   ]
  },
  {
   "cell_type": "code",
   "execution_count": 7,
   "id": "50623c52-1c2f-41c5-acff-8d498cee4bdc",
   "metadata": {},
   "outputs": [
    {
     "data": {
      "text/markdown": [
       "Data from Likert questions are typically considered to be on an ordinal scale rather than on an interval or ratio scale. \n",
       "\n",
       "In an ordinal scale, the responses have a meaningful order, but the intervals between the response categories are not necessarily equal. This means that while we can rank the responses from lowest to highest, we cannot say that the difference between each response category is the same.\n",
       "\n",
       "In comparison, interval scales have equal intervals between the points on the scale, and ratio scales have a true zero point as well as equal intervals between points. Likert scales, by themselves, do not meet the criteria for being on an interval or ratio scale."
      ],
      "text/plain": [
       "<IPython.core.display.Markdown object>"
      ]
     },
     "metadata": {},
     "output_type": "display_data"
    }
   ],
   "source": [
    "chat.send('Are data from Likert questions on an interval or ratio scale?')"
   ]
  },
  {
   "cell_type": "code",
   "execution_count": null,
   "id": "44ad79ce-03a4-4cca-82f3-7f52910d4c73",
   "metadata": {},
   "outputs": [],
   "source": []
  }
 ],
 "metadata": {
  "kernelspec": {
   "display_name": "Python 3 (ipykernel)",
   "language": "python",
   "name": "python3"
  },
  "language_info": {
   "codemirror_mode": {
    "name": "ipython",
    "version": 3
   },
   "file_extension": ".py",
   "mimetype": "text/x-python",
   "name": "python",
   "nbconvert_exporter": "python",
   "pygments_lexer": "ipython3",
   "version": "3.10.12"
  }
 },
 "nbformat": 4,
 "nbformat_minor": 5
}
