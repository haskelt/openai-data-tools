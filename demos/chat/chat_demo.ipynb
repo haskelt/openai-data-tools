{
 "cells": [
  {
   "cell_type": "code",
   "execution_count": 1,
   "id": "7a48d7c6-dee9-410d-b71f-3b58de904024",
   "metadata": {},
   "outputs": [],
   "source": [
    "import os\n",
    "import sys\n",
    "sys.path.append('../..')\n",
    "import openai_data_tools as dt"
   ]
  },
  {
   "cell_type": "code",
   "execution_count": 5,
   "id": "bd68999f-da27-4287-bef2-33a7eb64fd49",
   "metadata": {},
   "outputs": [],
   "source": [
    "chat = dt.Chat(\n",
    "    api_key=os.getenv(\"OPENAI_API_KEY\"),\n",
    "    model = 'gpt-3.5-turbo', \n",
    "    instructions = \"You are a research who is an expert on designing surveys.\"\n",
    ")"
   ]
  },
  {
   "cell_type": "code",
   "execution_count": 6,
   "id": "f3879de7-9b94-43af-8c55-c11e19a5944a",
   "metadata": {},
   "outputs": [
    {
     "data": {
      "text/markdown": [
       "When designing a Likert scale for measuring satisfaction with a product, it is essential to create options that accurately capture the respondents' level of satisfaction. Here are some suggestions for Likert scale options:\n",
       "\n",
       "1. Strongly Dissatisfied: This option should represent extreme dissatisfaction with the product. It indicates that the respondent is highly unsatisfied and has a negative opinion of the product.\n",
       "\n",
       "2. Dissatisfied: This option indicates a lower level of dissatisfaction. Respondents who choose this option are not completely satisfied with the product but may not feel as strongly as those who select \"Strongly Dissatisfied.\"\n",
       "\n",
       "3. Neutral: This option represents a midpoint on the Likert scale and indicates a lack of positive or negative sentiment towards the product. Respondents choosing this option neither express satisfaction nor dissatisfaction.\n",
       "\n",
       "4. Satisfied: This option indicates a moderate level of satisfaction with the product. Respondents who choose this option are generally happy with the product but may have some minor concerns.\n",
       "\n",
       "5. Strongly Satisfied: This option represents extreme satisfaction with the product. Respondents who choose this option are highly satisfied and have a very positive opinion of the product.\n",
       "\n",
       "It is important to note that the wording of the scale options may vary depending on the context and the target audience. Ensure that the options are clear, concise, and cover the range of satisfaction levels that you want to capture. Consider pilot testing the survey with a small group of respondents to validate the options and make any necessary adjustments."
      ],
      "text/plain": [
       "<IPython.core.display.Markdown object>"
      ]
     },
     "metadata": {},
     "output_type": "display_data"
    }
   ],
   "source": [
    "chat.send('I am asking people whether they are satisfied with our product, and I want to give them a Likert scale with 5 options. What are good options to use?')"
   ]
  },
  {
   "cell_type": "code",
   "execution_count": 7,
   "id": "47d9ab16-55c1-4531-a3a7-f6f54cdb64ad",
   "metadata": {},
   "outputs": [
    {
     "data": {
      "text/markdown": [
       "Certainly! Here is an alternative set of Likert scale options to measure satisfaction with a product:\n",
       "\n",
       "1. Extremely Dissatisfied: This option represents the highest level of dissatisfaction with the product. Respondents who choose this option have a very negative opinion and are extremely unsatisfied.\n",
       "\n",
       "2. Somewhat Dissatisfied: This option indicates a moderate level of dissatisfaction. Respondents who select this option are not fully satisfied with the product but may have some reservations or concerns.\n",
       "\n",
       "3. Neither Satisfied nor Dissatisfied: This option represents a neutral stance. Respondents who choose this option have neither a positive nor negative opinion and feel indifferent towards the product.\n",
       "\n",
       "4. Somewhat Satisfied: This option indicates a moderate level of satisfaction. Respondents who choose this option are reasonably satisfied with the product but may have some areas for improvement or minor suggestions.\n",
       "\n",
       "5. Extremely Satisfied: This option represents the highest level of satisfaction. Respondents who select this option have a very positive opinion and are extremely satisfied with the product.\n",
       "\n",
       "Remember to adapt the options to match your specific product and target audience. It's also important to pilot test the survey to ensure that the options resonate well with the respondents."
      ],
      "text/plain": [
       "<IPython.core.display.Markdown object>"
      ]
     },
     "metadata": {},
     "output_type": "display_data"
    }
   ],
   "source": [
    "chat.send('Can you suggest another set of options?')"
   ]
  },
  {
   "cell_type": "code",
   "execution_count": 8,
   "id": "92890368-0a6c-4ace-b98c-3de6436641b5",
   "metadata": {},
   "outputs": [
    {
     "data": {
      "text/markdown": [
       "When measuring the ease of use of a product, you can provide Likert scale options that capture respondents' perception of its usability. Here are some suggested answer options for this question:\n",
       "\n",
       "1. Very Difficult: This option represents the highest level of difficulty in using the product. Respondents who choose this option find the product extremely challenging to use.\n",
       "\n",
       "2. Somewhat Difficult: This option indicates a moderate level of difficulty. Respondents who select this option find the product somewhat hard to use but may still be able to navigate it with some effort.\n",
       "\n",
       "3. Neutral: This option represents a neutral stance on the ease of use. Respondents choosing this option neither find the product difficult nor easy to use and perceive it as average in terms of usability.\n",
       "\n",
       "4. Somewhat Easy: This option indicates a moderate level of ease. Respondents who choose this option find the product relatively easy to use but may have encountered a few minor issues or complexities.\n",
       "\n",
       "5. Very Easy: This option represents the highest level of ease in using the product. Respondents who select this option find the product extremely user-friendly and perceive it as effortless to navigate.\n",
       "\n",
       "Consider using terms like \"difficult,\" \"easy,\" or \"challenging\" in the options to clearly communicate the level of usability. Again, customize the options according to your specific product and target audience. It is also recommended to conduct pilot testing to ensure that the answer options are effective in capturing respondents' perceptions accurately."
      ],
      "text/plain": [
       "<IPython.core.display.Markdown object>"
      ]
     },
     "metadata": {},
     "output_type": "display_data"
    }
   ],
   "source": [
    "chat.send('I also have a question about how easy the product is to use. What would be some good answer options for that question?')"
   ]
  },
  {
   "cell_type": "code",
   "execution_count": 9,
   "id": "50623c52-1c2f-41c5-acff-8d498cee4bdc",
   "metadata": {},
   "outputs": [
    {
     "data": {
      "text/markdown": [
       "The data from Likert questions are generally considered to be on an ordinal scale. \n",
       "\n",
       "An ordinal scale represents data that can be ordered or ranked in a specific order but does not have a consistent interval or ratio between the values. In the case of Likert scale questions, the respondents are typically asked to indicate their level of agreement or disagreement with a statement using options such as \"strongly disagree,\" \"disagree,\" \"neutral,\" \"agree,\" and \"strongly agree.\" These options can be ranked in a logical order, but the difference between each option is not necessarily equal or measurable.\n",
       "\n",
       "For example, while we can determine that \"agree\" is a higher level than \"disagree,\" we cannot infer that the difference between \"agree\" and \"neutral\" is the same as the difference between \"neutral\" and \"disagree.\"\n",
       "\n",
       "That being said, there are some techniques that can allow for treating Likert scale data as if it were on an interval scale, such as using the Likert data as interval variables in statistical analysis. However, it is important to note that this is a matter of interpretation and debate within the research community.\n",
       "\n",
       "If you need to perform statistical analyses that require interval or ratio scale data, it is generally recommended to use other types of scales that provide truly interval or ratio data, such as rating scales or numerical scales."
      ],
      "text/plain": [
       "<IPython.core.display.Markdown object>"
      ]
     },
     "metadata": {},
     "output_type": "display_data"
    }
   ],
   "source": [
    "chat.send('Are data from Likert questions on an interval or ratio scale?')"
   ]
  },
  {
   "cell_type": "code",
   "execution_count": null,
   "id": "44ad79ce-03a4-4cca-82f3-7f52910d4c73",
   "metadata": {},
   "outputs": [],
   "source": []
  }
 ],
 "metadata": {
  "kernelspec": {
   "display_name": "Python 3 (ipykernel)",
   "language": "python",
   "name": "python3"
  },
  "language_info": {
   "codemirror_mode": {
    "name": "ipython",
    "version": 3
   },
   "file_extension": ".py",
   "mimetype": "text/x-python",
   "name": "python",
   "nbconvert_exporter": "python",
   "pygments_lexer": "ipython3",
   "version": "3.10.12"
  }
 },
 "nbformat": 4,
 "nbformat_minor": 5
}
