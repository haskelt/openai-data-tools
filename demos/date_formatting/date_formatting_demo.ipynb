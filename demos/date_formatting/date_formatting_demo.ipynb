{
 "cells": [
  {
   "cell_type": "markdown",
   "id": "3a8557ca",
   "metadata": {},
   "source": [
    "## Converting dates to a consistent format\n",
    "This demo shows how you can take a date field that may be in a variety of formats, have bad data, etc. and convert it to a field with a consistent format and NA for any bad values.\n",
    "\n",
    "Dates are a challenging problem because there are so many different ways to write them, and they can often be ambiguous. Some of the cases that are testing in the demo dataset:\n",
    "* The month may be specified with a month name (January) or a month number (1)\n",
    "* Numbers may be specified as digits (15) or words (fifteen)\n",
    "* The century is often implied: 4/17/94 implies the year is 1994, while 9/20/13 implies the year is 2013\n",
    "* The US and Europe have different conventions for the order of day and month, so 04/10/2015 is April 10 2015 in the US and 4 October 2015 in Europe"
   ]
  },
  {
   "cell_type": "code",
   "execution_count": 1,
   "id": "650a991c",
   "metadata": {},
   "outputs": [],
   "source": [
    "import os\n",
    "import pandas as pd"
   ]
  },
  {
   "cell_type": "code",
   "execution_count": 2,
   "id": "95775fc6-c554-41b8-9a16-3d21f550b297",
   "metadata": {},
   "outputs": [],
   "source": [
    "import sys\n",
    "sys.path.append('../..')\n",
    "import openai_data_tools as dt"
   ]
  },
  {
   "cell_type": "code",
   "execution_count": 3,
   "id": "fbe14653",
   "metadata": {},
   "outputs": [],
   "source": [
    "examples = [\n",
    "       {'item': 'May 5, 1985', 'target': '1985-05-05'}\n",
    "]"
   ]
  },
  {
   "cell_type": "code",
   "execution_count": 6,
   "id": "b7085526",
   "metadata": {},
   "outputs": [],
   "source": [
    "dates = pd.read_csv('dates.csv', dtype=str, keep_default_na=False)"
   ]
  },
  {
   "cell_type": "markdown",
   "id": "b743d7b9-4f08-418a-8f5e-1d0a4315da26",
   "metadata": {},
   "source": [
    "Here is our test data set: Item is the input to the model, target is the desired output."
   ]
  },
  {
   "cell_type": "code",
   "execution_count": 7,
   "id": "6f79d312",
   "metadata": {},
   "outputs": [
    {
     "data": {
      "text/html": [
       "<div>\n",
       "<style scoped>\n",
       "    .dataframe tbody tr th:only-of-type {\n",
       "        vertical-align: middle;\n",
       "    }\n",
       "\n",
       "    .dataframe tbody tr th {\n",
       "        vertical-align: top;\n",
       "    }\n",
       "\n",
       "    .dataframe thead th {\n",
       "        text-align: right;\n",
       "    }\n",
       "</style>\n",
       "<table border=\"1\" class=\"dataframe\">\n",
       "  <thead>\n",
       "    <tr style=\"text-align: right;\">\n",
       "      <th></th>\n",
       "      <th>item</th>\n",
       "      <th>target</th>\n",
       "      <th>notes</th>\n",
       "    </tr>\n",
       "  </thead>\n",
       "  <tbody>\n",
       "    <tr>\n",
       "      <th>0</th>\n",
       "      <td>4-19-2008</td>\n",
       "      <td>2008-04-19</td>\n",
       "      <td></td>\n",
       "    </tr>\n",
       "    <tr>\n",
       "      <th>1</th>\n",
       "      <td>8/17/2019</td>\n",
       "      <td>2019-08-17</td>\n",
       "      <td></td>\n",
       "    </tr>\n",
       "    <tr>\n",
       "      <th>2</th>\n",
       "      <td>1.28.56</td>\n",
       "      <td>1956-01-28</td>\n",
       "      <td>Has to infer that we mean 1956 and not 2056</td>\n",
       "    </tr>\n",
       "    <tr>\n",
       "      <th>3</th>\n",
       "      <td>10.23.22</td>\n",
       "      <td>2022-10-23</td>\n",
       "      <td>Has to infer that we mean 2022 and not 1922</td>\n",
       "    </tr>\n",
       "    <tr>\n",
       "      <th>4</th>\n",
       "      <td>February 14th 2010</td>\n",
       "      <td>2010-02-14</td>\n",
       "      <td></td>\n",
       "    </tr>\n",
       "    <tr>\n",
       "      <th>5</th>\n",
       "      <td>Dec 12, 1995</td>\n",
       "      <td>1995-12-12</td>\n",
       "      <td></td>\n",
       "    </tr>\n",
       "    <tr>\n",
       "      <th>6</th>\n",
       "      <td>23 March 1974</td>\n",
       "      <td>1974-03-23</td>\n",
       "      <td></td>\n",
       "    </tr>\n",
       "    <tr>\n",
       "      <th>7</th>\n",
       "      <td>7/9/80</td>\n",
       "      <td>1980-07-09</td>\n",
       "      <td>Ambiguous: Should this date be interpreted wit...</td>\n",
       "    </tr>\n",
       "    <tr>\n",
       "      <th>8</th>\n",
       "      <td>14/19/93</td>\n",
       "      <td>NA</td>\n",
       "      <td>This is not a valid date for either convention</td>\n",
       "    </tr>\n",
       "    <tr>\n",
       "      <th>9</th>\n",
       "      <td>2/15</td>\n",
       "      <td>NA</td>\n",
       "      <td>This is an invalid date because no year is spe...</td>\n",
       "    </tr>\n",
       "    <tr>\n",
       "      <th>10</th>\n",
       "      <td>13th of April, 2016</td>\n",
       "      <td>2016-04-13</td>\n",
       "      <td></td>\n",
       "    </tr>\n",
       "    <tr>\n",
       "      <th>11</th>\n",
       "      <td>Twenty-fifth of August, 1955</td>\n",
       "      <td>1955-08-25</td>\n",
       "      <td></td>\n",
       "    </tr>\n",
       "    <tr>\n",
       "      <th>12</th>\n",
       "      <td>October twelfth, nineteen eighty-six</td>\n",
       "      <td>1986-10-12</td>\n",
       "      <td></td>\n",
       "    </tr>\n",
       "  </tbody>\n",
       "</table>\n",
       "</div>"
      ],
      "text/plain": [
       "                                    item      target  \\\n",
       "0                              4-19-2008  2008-04-19   \n",
       "1                              8/17/2019  2019-08-17   \n",
       "2                                1.28.56  1956-01-28   \n",
       "3                               10.23.22  2022-10-23   \n",
       "4                     February 14th 2010  2010-02-14   \n",
       "5                           Dec 12, 1995  1995-12-12   \n",
       "6                          23 March 1974  1974-03-23   \n",
       "7                                 7/9/80  1980-07-09   \n",
       "8                               14/19/93          NA   \n",
       "9                                   2/15          NA   \n",
       "10                   13th of April, 2016  2016-04-13   \n",
       "11          Twenty-fifth of August, 1955  1955-08-25   \n",
       "12  October twelfth, nineteen eighty-six  1986-10-12   \n",
       "\n",
       "                                                notes  \n",
       "0                                                      \n",
       "1                                                      \n",
       "2         Has to infer that we mean 1956 and not 2056  \n",
       "3         Has to infer that we mean 2022 and not 1922  \n",
       "4                                                      \n",
       "5                                                      \n",
       "6                                                      \n",
       "7   Ambiguous: Should this date be interpreted wit...  \n",
       "8      This is not a valid date for either convention  \n",
       "9   This is an invalid date because no year is spe...  \n",
       "10                                                     \n",
       "11                                                     \n",
       "12                                                     "
      ]
     },
     "execution_count": 7,
     "metadata": {},
     "output_type": "execute_result"
    }
   ],
   "source": [
    "dates"
   ]
  },
  {
   "cell_type": "code",
   "execution_count": 8,
   "id": "2f48f3c9",
   "metadata": {},
   "outputs": [],
   "source": [
    "processor = dt.DataProcessor(\n",
    "    api_key=os.getenv(\"OPENAI_API_KEY\"),\n",
    "    model = 'gpt-3.5-turbo', \n",
    "    instructions = \"You will be provided with dates in various formats. For each date, convert it to the format YYYY-MM-DD. If it is not a valid date, return 'NA'.\"\n",
    ")"
   ]
  },
  {
   "cell_type": "code",
   "execution_count": 9,
   "id": "204fd3f6",
   "metadata": {},
   "outputs": [
    {
     "name": "stdout",
     "output_type": "stream",
     "text": [
      "Progress: 100%\n"
     ]
    }
   ],
   "source": [
    "output = processor.process(dates['item'])"
   ]
  },
  {
   "cell_type": "markdown",
   "id": "296bf8e3-8d77-4f56-85be-801c8b6f8a64",
   "metadata": {},
   "source": [
    "Let's use a Scorer object to see how the model did."
   ]
  },
  {
   "cell_type": "code",
   "execution_count": 10,
   "id": "2b4647d4-b5be-48e5-a360-ee78281f2063",
   "metadata": {},
   "outputs": [],
   "source": [
    "scorer = dt.Scorer(output, dates['target'])"
   ]
  },
  {
   "cell_type": "markdown",
   "id": "cd193fc0-a5b3-4e07-b9b5-a6f7741f5826",
   "metadata": {},
   "source": [
    "This is the proportion of items where the output matched the target."
   ]
  },
  {
   "cell_type": "code",
   "execution_count": 11,
   "id": "76e073a8-141f-4b15-9909-26d81407705d",
   "metadata": {},
   "outputs": [
    {
     "data": {
      "text/plain": [
       "0.9230769230769231"
      ]
     },
     "execution_count": 11,
     "metadata": {},
     "output_type": "execute_result"
    }
   ],
   "source": [
    "scorer.accuracy()"
   ]
  },
  {
   "cell_type": "markdown",
   "id": "c9b30dcc-6b87-463f-8edc-d03338f4c738",
   "metadata": {},
   "source": [
    "This lets us see the specific items where the output didn't match a target (indicated by 0)"
   ]
  },
  {
   "cell_type": "code",
   "execution_count": 12,
   "id": "0d1284a2",
   "metadata": {},
   "outputs": [
    {
     "data": {
      "text/plain": [
       "[1, 1, 0, 1, 1, 1, 1, 1, 1, 1, 1, 1, 1]"
      ]
     },
     "execution_count": 12,
     "metadata": {},
     "output_type": "execute_result"
    }
   ],
   "source": [
    "scorer.score()"
   ]
  },
  {
   "cell_type": "markdown",
   "id": "48b086cd-ed87-41df-a376-b9784cea57e1",
   "metadata": {},
   "source": [
    "This lets us look at the input, the target output, and the actual output side-by-side"
   ]
  },
  {
   "cell_type": "code",
   "execution_count": 13,
   "id": "cc3a8867-4959-42b8-953f-8742d0f5798b",
   "metadata": {},
   "outputs": [
    {
     "data": {
      "text/html": [
       "<div>\n",
       "<style scoped>\n",
       "    .dataframe tbody tr th:only-of-type {\n",
       "        vertical-align: middle;\n",
       "    }\n",
       "\n",
       "    .dataframe tbody tr th {\n",
       "        vertical-align: top;\n",
       "    }\n",
       "\n",
       "    .dataframe thead th {\n",
       "        text-align: right;\n",
       "    }\n",
       "</style>\n",
       "<table border=\"1\" class=\"dataframe\">\n",
       "  <thead>\n",
       "    <tr style=\"text-align: right;\">\n",
       "      <th></th>\n",
       "      <th>item</th>\n",
       "      <th>target</th>\n",
       "      <th>output</th>\n",
       "    </tr>\n",
       "  </thead>\n",
       "  <tbody>\n",
       "    <tr>\n",
       "      <th>0</th>\n",
       "      <td>4-19-2008</td>\n",
       "      <td>2008-04-19</td>\n",
       "      <td>2008-04-19</td>\n",
       "    </tr>\n",
       "    <tr>\n",
       "      <th>1</th>\n",
       "      <td>8/17/2019</td>\n",
       "      <td>2019-08-17</td>\n",
       "      <td>2019-08-17</td>\n",
       "    </tr>\n",
       "    <tr>\n",
       "      <th>2</th>\n",
       "      <td>1.28.56</td>\n",
       "      <td>1956-01-28</td>\n",
       "      <td>NA</td>\n",
       "    </tr>\n",
       "    <tr>\n",
       "      <th>3</th>\n",
       "      <td>10.23.22</td>\n",
       "      <td>2022-10-23</td>\n",
       "      <td>2022-10-23</td>\n",
       "    </tr>\n",
       "    <tr>\n",
       "      <th>4</th>\n",
       "      <td>February 14th 2010</td>\n",
       "      <td>2010-02-14</td>\n",
       "      <td>2010-02-14</td>\n",
       "    </tr>\n",
       "    <tr>\n",
       "      <th>5</th>\n",
       "      <td>Dec 12, 1995</td>\n",
       "      <td>1995-12-12</td>\n",
       "      <td>1995-12-12</td>\n",
       "    </tr>\n",
       "    <tr>\n",
       "      <th>6</th>\n",
       "      <td>23 March 1974</td>\n",
       "      <td>1974-03-23</td>\n",
       "      <td>1974-03-23</td>\n",
       "    </tr>\n",
       "    <tr>\n",
       "      <th>7</th>\n",
       "      <td>7/9/80</td>\n",
       "      <td>1980-07-09</td>\n",
       "      <td>1980-07-09</td>\n",
       "    </tr>\n",
       "    <tr>\n",
       "      <th>8</th>\n",
       "      <td>14/19/93</td>\n",
       "      <td>NA</td>\n",
       "      <td>NA</td>\n",
       "    </tr>\n",
       "    <tr>\n",
       "      <th>9</th>\n",
       "      <td>2/15</td>\n",
       "      <td>NA</td>\n",
       "      <td>NA</td>\n",
       "    </tr>\n",
       "    <tr>\n",
       "      <th>10</th>\n",
       "      <td>13th of April, 2016</td>\n",
       "      <td>2016-04-13</td>\n",
       "      <td>2016-04-13</td>\n",
       "    </tr>\n",
       "    <tr>\n",
       "      <th>11</th>\n",
       "      <td>Twenty-fifth of August, 1955</td>\n",
       "      <td>1955-08-25</td>\n",
       "      <td>1955-08-25</td>\n",
       "    </tr>\n",
       "    <tr>\n",
       "      <th>12</th>\n",
       "      <td>October twelfth, nineteen eighty-six</td>\n",
       "      <td>1986-10-12</td>\n",
       "      <td>1986-10-12</td>\n",
       "    </tr>\n",
       "  </tbody>\n",
       "</table>\n",
       "</div>"
      ],
      "text/plain": [
       "                                    item      target      output\n",
       "0                              4-19-2008  2008-04-19  2008-04-19\n",
       "1                              8/17/2019  2019-08-17  2019-08-17\n",
       "2                                1.28.56  1956-01-28          NA\n",
       "3                               10.23.22  2022-10-23  2022-10-23\n",
       "4                     February 14th 2010  2010-02-14  2010-02-14\n",
       "5                           Dec 12, 1995  1995-12-12  1995-12-12\n",
       "6                          23 March 1974  1974-03-23  1974-03-23\n",
       "7                                 7/9/80  1980-07-09  1980-07-09\n",
       "8                               14/19/93          NA          NA\n",
       "9                                   2/15          NA          NA\n",
       "10                   13th of April, 2016  2016-04-13  2016-04-13\n",
       "11          Twenty-fifth of August, 1955  1955-08-25  1955-08-25\n",
       "12  October twelfth, nineteen eighty-six  1986-10-12  1986-10-12"
      ]
     },
     "execution_count": 13,
     "metadata": {},
     "output_type": "execute_result"
    }
   ],
   "source": [
    "pd.DataFrame({'item': dates['item'], 'target': dates['target'], 'output': output})"
   ]
  }
 ],
 "metadata": {
  "kernelspec": {
   "display_name": "Python 3 (ipykernel)",
   "language": "python",
   "name": "python3"
  },
  "language_info": {
   "codemirror_mode": {
    "name": "ipython",
    "version": 3
   },
   "file_extension": ".py",
   "mimetype": "text/x-python",
   "name": "python",
   "nbconvert_exporter": "python",
   "pygments_lexer": "ipython3",
   "version": "3.10.12"
  }
 },
 "nbformat": 4,
 "nbformat_minor": 5
}
